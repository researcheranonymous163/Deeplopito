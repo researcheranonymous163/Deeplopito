{
 "cells": [
  {
   "metadata": {},
   "cell_type": "code",
   "source": [
    "from datetime import datetime\n",
    "from os import environ\n",
    "\n",
    "environ['DATA_DOWNLOAD'] = 'true'\n",
    "\n",
    "if 'RUN_DIR' not in environ:\n",
    "\tenviron['RUN_DIR'] = f\"./runs/{datetime.now().astimezone().strftime('%Y-%m-%d %H-%M-%S-%f %z')}/\"\n",
    "\n",
    "print(f\"RUN_DIR={environ['RUN_DIR']}\")"
   ],
   "id": "6d88ff0d8f2abc59",
   "outputs": [],
   "execution_count": null
  },
  {
   "metadata": {},
   "cell_type": "code",
   "source": [
    "import asyncio\n",
    "\n",
    "from node import build as build_node\n",
    "from torch.optim.lr_scheduler import StepLR\n",
    "from pathlib import Path\n",
    "\n",
    "\n",
    "async def node_amain(name: str):\n",
    "\tnode = await build_node(\n",
    "\t\tname=name,\n",
    "\t\tdata_distribution='stratified',\n",
    "\t\tcommunicator='local',\n",
    "\t\tdata_dir_path=Path(f\"{environ['RUN_DIR']}/data/{name}/\"),\n",
    "\t)\n",
    "\t\n",
    "\tlr_stepper = StepLR(node._torch_context.optimizer, step_size=1, gamma=0.9)\n",
    "\t\n",
    "\twhile True:\n",
    "\t\tawait node.step_round()\n",
    "\t\tlr_stepper.step()"
   ],
   "id": "31fee0e767289375",
   "outputs": [],
   "execution_count": null
  },
  {
   "metadata": {},
   "cell_type": "code",
   "source": [
    "async with asyncio.TaskGroup() as tg:\n",
    "\tfor i in range(10):\n",
    "\t\tname = f\"node-{i}\"\n",
    "\t\ttg.create_task(node_amain(name))"
   ],
   "id": "38a9516b2a97a2d7",
   "outputs": [],
   "execution_count": null
  }
 ],
 "metadata": {
  "kernelspec": {
   "display_name": "Python 3",
   "language": "python",
   "name": "python3"
  },
  "language_info": {
   "codemirror_mode": {
    "name": "ipython",
    "version": 2
   },
   "file_extension": ".py",
   "mimetype": "text/x-python",
   "name": "python",
   "nbconvert_exporter": "python",
   "pygments_lexer": "ipython2",
   "version": "2.7.6"
  }
 },
 "nbformat": 4,
 "nbformat_minor": 5
}
