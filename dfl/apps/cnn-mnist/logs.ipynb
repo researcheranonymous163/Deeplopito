{
 "cells": [
  {
   "metadata": {
    "collapsed": true
   },
   "cell_type": "code",
   "source": [
    "from os import environ\n",
    "from pathlib import Path\n",
    "\n",
    "logs_dir = Path(environ.get('DFL_LOGS_DIR', './runs/2025-02-17 21-58-59-275732258 +0330/logs/'))"
   ],
   "id": "initial_id",
   "outputs": [],
   "execution_count": null
  },
  {
   "metadata": {},
   "cell_type": "code",
   "source": [
    "from jsonl import Jsonl\n",
    "import pandas as pd\n",
    "from datetime import timedelta\n",
    "\n",
    "accs_df = pd.DataFrame(columns=('file', 'round', 'type', 'accuracy'))\n",
    "durs_df = pd.DataFrame(columns=('file', 'round', 'type', 'duration'))\n",
    "\n",
    "for file in logs_dir.iterdir():\n",
    "\tif not file.is_file():\n",
    "\t\tprint(f\"Skipping non-file {file}.\")\n",
    "\t\tcontinue\n",
    "\t\n",
    "\tfor log in Jsonl(file):\n",
    "\t\tlog_type = log.get('type', None)\n",
    "\t\tmatch log_type:\n",
    "\t\t\tcase 'train-accuracy' | 'test-accuracy':\n",
    "\t\t\t\td = {\n",
    "\t\t\t\t\t'type': log_type.split('-')[0],\n",
    "\t\t\t\t\t'file': file.name,\n",
    "\t\t\t\t\t'round': log['round'],\n",
    "\t\t\t\t\t'accuracy': log['accuracy'],\n",
    "\t\t\t\t}\n",
    "\n",
    "\t\t\t\taccs_df.loc[len(accs_df)] = d\n",
    "\t\t\tcase 'time-pull' | 'time-train':\n",
    "\t\t\t\td = {\n",
    "\t\t\t\t\t'type': log_type.split('-')[1],\n",
    "\t\t\t\t\t'file': file.name,\n",
    "\t\t\t\t\t'round': log['round'],\n",
    "\t\t\t\t\t'duration': timedelta(seconds=log['time-seconds']),\n",
    "\t\t\t\t}\n",
    "\n",
    "\t\t\t\tdurs_df.loc[len(durs_df)] = d\n",
    "\t\t\tcase _:\n",
    "\t\t\t\t# NOP.\n",
    "\t\t\t\tpass\n",
    "\n",
    "accs_df['node_index'] = accs_df['file'].str.extract('(\\\\d+)').astype(int)\n",
    "durs_df['node_index'] = durs_df['file'].str.extract('(\\\\d+)').astype(int)\n",
    "\n",
    "accs_df = accs_df.convert_dtypes()\n",
    "durs_df = durs_df.convert_dtypes()\n",
    "\n",
    "accs_df.sort_values(['node_index', 'round'], inplace=True)\n",
    "durs_df.sort_values(['node_index', 'round'], inplace=True)\n"
   ],
   "id": "fe8e11186fa9a1de",
   "outputs": [],
   "execution_count": null
  },
  {
   "metadata": {},
   "cell_type": "code",
   "source": "accs_df",
   "id": "29f6636ca32f02f",
   "outputs": [],
   "execution_count": null
  },
  {
   "metadata": {},
   "cell_type": "code",
   "source": "durs_df",
   "id": "f390a0638a07921c",
   "outputs": [],
   "execution_count": null
  },
  {
   "metadata": {},
   "cell_type": "code",
   "source": [
    "train_accs_df = accs_df[accs_df['type'] == 'train'].drop(columns=['type', 'file'])\n",
    "test_accs_df = accs_df[accs_df['type'] == 'test'].drop(columns=['type', 'file'])\n",
    "\n",
    "agg_durs_df = durs_df.groupby(['node_index', 'round', 'type', 'file'], as_index=False)['duration'].sum()\n",
    "agg_durs_df['duration'] = agg_durs_df['duration'].apply(lambda d: d.total_seconds())\n",
    "\n",
    "pull_durs_df = agg_durs_df[agg_durs_df['type'] == 'pull'].drop(columns=['type', 'file'])\n",
    "train_durs_df = agg_durs_df[agg_durs_df['type'] == 'train'].drop(columns=['type', 'file'])"
   ],
   "id": "98e4e3881fd988c3",
   "outputs": [],
   "execution_count": null
  },
  {
   "metadata": {},
   "cell_type": "code",
   "source": [
    "import plotly.express as px\n",
    "\n",
    "labels = {'node_index': 'Node', 'round': 'Round', 'accuracy': 'Accuracy'}\n",
    "\n",
    "fig_train = px.line(\n",
    "\ttrain_accs_df, x='round', y='accuracy', color='node_index', markers=True,\n",
    "\ttitle='Train Accuracies over Rounds', labels=labels\n",
    ")\n",
    "fig_test = px.line(\n",
    "\ttest_accs_df, x='round', y='accuracy', color='node_index', markers=True,\n",
    "\ttitle='Test Accuracies over Rounds', labels=labels\n",
    ")\n",
    "\n",
    "fig_test.show()\n",
    "fig_train.show()"
   ],
   "id": "624a1a16ddcfdfd8",
   "outputs": [],
   "execution_count": null
  },
  {
   "metadata": {},
   "cell_type": "code",
   "source": "",
   "id": "fda51af43673635c",
   "outputs": [],
   "execution_count": null
  },
  {
   "metadata": {},
   "cell_type": "code",
   "source": [
    "import plotly.express as px\n",
    "\n",
    "labels = {'node_index': 'Node', 'round': 'Round', 'duration': 'Duration (s)'}\n",
    "\n",
    "fig_pull = px.line(\n",
    "\tpull_durs_df, x='round', y='duration', color='node_index', markers=True,\n",
    "\ttitle='Total Comm. Pull Duration over Rounds', labels=labels\n",
    ")\n",
    "\n",
    "fig_train = px.line(\n",
    "\ttrain_durs_df, x='round', y='duration', color='node_index', markers=True,\n",
    "\ttitle='Train Duration over Rounds', labels=labels\n",
    ")\n",
    "\n",
    "fig_pull.show()\n",
    "fig_train.show()"
   ],
   "id": "f5576e04438c112a",
   "outputs": [],
   "execution_count": null
  }
 ],
 "metadata": {
  "kernelspec": {
   "display_name": "Python 3",
   "language": "python",
   "name": "python3"
  },
  "language_info": {
   "codemirror_mode": {
    "name": "ipython",
    "version": 2
   },
   "file_extension": ".py",
   "mimetype": "text/x-python",
   "name": "python",
   "nbconvert_exporter": "python",
   "pygments_lexer": "ipython2",
   "version": "2.7.6"
  }
 },
 "nbformat": 4,
 "nbformat_minor": 5
}
